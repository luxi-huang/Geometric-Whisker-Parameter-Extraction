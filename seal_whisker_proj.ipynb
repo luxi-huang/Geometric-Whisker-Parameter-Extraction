{
 "cells": [
  {
   "cell_type": "code",
   "execution_count": 1,
   "metadata": {
    "collapsed": true
   },
   "outputs": [],
   "source": [
    "import sys \n",
    "\n",
    "from vmtk import pypes\n",
    "from vmtk import vmtkscripts"
   ]
  },
  {
   "cell_type": "code",
   "execution_count": 2,
   "metadata": {
    "collapsed": true
   },
   "outputs": [],
   "source": [
    "mast_dir = ' D:/Hartmann/PythonAll/seal_whiskers/Har20191023_harbor3_jig1/' \n",
    "dir_1 = mast_dir + 'saved/IMG-0002-00001.dcm ' ###raw dcm stack\n",
    "dir_2 = mast_dir + 'image_volume_voi.vti ' ###image: one whisker\n",
    "dir_5 = mast_dir + 'image_volume_voi_v2.vti ' ###image: many whisker\n",
    "dir_3 = mast_dir + 'mc_surface.vtp ' ### surface\n",
    "dir_4 = mast_dir + 'level_sets.vti ' ###image \n",
    "\n",
    "arg_1 = 'vmtkimagereader -ifile' + dir_1 + '--pipe vmtkimagevoiselector -ofile' +  dir_5\n",
    "arg_3 = 'vmtklevelsetsegmentation -ifile' + dir_5 + '-ofile' + dir_4\n",
    "arg_2 = 'vmtkmarchingcubes -ifile' +  dir_5 +'-l 5.0 -ofile' +  dir_3 + '--pipe vmtksurfaceviewer'\n",
    "myArguments = 'vmtkmarchingcubes -ifile ' + dir_2 + ' -l 5 --pipe vmtksurfaceviewer'\n",
    "\n",
    "#myPype = pypes.PypeRun(myArguments)"
   ]
  },
  {
   "cell_type": "code",
   "execution_count": 3,
   "metadata": {},
   "outputs": [
    {
     "name": "stdout",
     "output_type": "stream",
     "text": [
      "\n",
      "Automatic piping vmtkimagereader\n",
      "Parsing options vmtkimagereader\n",
      "    InputFileName = D:/Hartmann/PythonAll/seal_whiskers/Har20191023_harbor3_jig1/saved/IMG-0002-00001.dcm\n",
      "Explicit piping vmtkimagereader\n",
      "Input vmtkimagereader members:\n",
      "    Id = 0\n",
      "    Disabled = 0\n",
      "    Format = \n",
      "    GuessFormat = 1\n",
      "    UseITKIO = 1\n",
      "    Image = 0\n",
      "    InputFileName = D:/Hartmann/PythonAll/seal_whiskers/Har20191023_harbor3_jig1/saved/IMG-0002-00001.dcm\n",
      "    InputFilePrefix = \n",
      "    InputFilePattern = \n",
      "    DataExtent = [-1, -1, -1, -1, -1, -1]\n",
      "    HeaderSize = 0\n",
      "    DataSpacing = [1.0, 1.0, 1.0]\n",
      "    DataOrigin = [0.0, 0.0, 0.0]\n",
      "    DesiredOrientation = native\n",
      "    DataByteOrder = littleendian\n",
      "    DataScalarType = float\n",
      "    FileDimensionality = 3\n",
      "    Flip = [0, 0, 0]\n",
      "    AutoOrientDICOMImage = 1\n",
      "    ImageOutputFileName = \n",
      "Executing vmtkimagereader ...\n",
      "Spacing 0.034357 0.034344 0.034370\n",
      "Origin -28.459585 -33.282825 -126.882812\n",
      "Dimensions 1758 1814 931\n",
      "Done executing vmtkimagereader.\n",
      "Output vmtkimagereader members:\n",
      "    Id = 0\n",
      "    Image = vtkImageData\n",
      "    RasToIjkMatrixCoefficients = [29.10615012952237, -0.0, 0.0, 828.348959158813, -0.0, 29.117167481947355, -0.0, 969.1016034815602, 0.0, -0.0, 29.094783573806886, 3691.6279689234184, -0.0, 0.0, -0.0, 1.0]\n",
      "    XyzToRasMatrixCoefficients = [1.0, 0.0, 0.0, 0.0, 0.0, 1.0, 0.0, 0.0, 0.0, 0.0, 1.0, 0.0, 0.0, 0.0, 0.0, 1.0]\n",
      "\n",
      "Automatic piping vmtkimagevoiselector\n",
      "    Image = vmtkimagereader-0.Image\n",
      "Parsing options vmtkimagevoiselector\n",
      "    ImageOutputFileName = D:/Hartmann/PythonAll/seal_whiskers/Har20191023_harbor3_jig1/image_volume_voi_v2.vti\n",
      "Explicit piping vmtkimagevoiselector\n",
      "Input vmtkimagevoiselector members:\n",
      "    Id = 0\n",
      "    Disabled = 0\n",
      "    Image = vtkImageData\n",
      "    ImageInputFileName = \n",
      "    Interactive = 1\n",
      "    BoxBounds = [0.0, 0.0, 0.0, 0.0, 0.0, 0.0]\n",
      "    vmtkRenderer = None\n",
      "    ImageOutputFileName = D:/Hartmann/PythonAll/seal_whiskers/Har20191023_harbor3_jig1/image_volume_voi_v2.vti\n",
      "Executing vmtkimagevoiselector ...\n",
      "Press 'i' to activate interactorQuit renderer\n",
      "Quit renderer\n",
      "Done executing vmtkimagevoiselector.\n",
      "Writing VTK XML image file.\n",
      "Output vmtkimagevoiselector members:\n",
      "    Id = 0\n",
      "    Image = vtkImageData\n"
     ]
    }
   ],
   "source": [
    "myPype = pypes.PypeRun(arg_1)"
   ]
  },
  {
   "cell_type": "code",
   "execution_count": null,
   "metadata": {
    "collapsed": true
   },
   "outputs": [],
   "source": [
    "mySurface = myPype.GetScriptObject('vmtkmarchingcubes','0').Surface\n",
    "mySmoother = vmtkscripts.vmtkSurfaceSmoothing()\n",
    "mySmoother.Surface = mySurface\n",
    "mySmoother.PassBand = 0.1\n",
    "mySmoother.NumberOfIterations = 30\n",
    "mySmoother.Execute()"
   ]
  },
  {
   "cell_type": "code",
   "execution_count": null,
   "metadata": {
    "collapsed": true
   },
   "outputs": [],
   "source": [
    "myWriter = vmtkscripts.vmtkSurfaceWriter()\n",
    "myWriter.Surface = mySmoother.Surface\n",
    "myWriter.OutputFileName = 'mysurface.vtp'\n",
    "myWriter.Execute()"
   ]
  },
  {
   "cell_type": "code",
   "execution_count": null,
   "metadata": {
    "collapsed": true
   },
   "outputs": [],
   "source": [
    "customscript = 'customScript'\n",
    "\n",
    "class customScript(pypes.pypeScript):\n",
    "    def __init__(self):\n",
    "        pypes.pypeScript.__init__(self)\n",
    "        self.Image = None\n",
    "        self.Surface = None\n",
    "        self.Levels=[]\n",
    "        self.SetScriptName('customScript')\n",
    "        self.SetScriptDoc('here goes a description')\n",
    "        self.SetInputMembers([\n",
    "            ['Image','i','vtkImageData',1,'','the input image','vmtkimagereader'],\n",
    "            ['Levels','levels','float',-1,'','graylevels to generate the isosurface at'],\n",
    "            ])\n",
    "        self.SetOutputMembers([\n",
    "            ['Surface','o','vtkPolyData',1,'','the output surface','vmtksurfacewriter']\n",
    "            ])\n",
    "    def Execute(self): \n",
    "        if self.Image == None:\n",
    "            self.PrintError('Error: No Image.')\n",
    "        if self.Levels == []:\n",
    "            self.PrintError('Error: No Levels')\n",
    "        self.marchingCubes = vmtkscripts.vmtkMarchingCubes()\n",
    "        self.marchingCubes.Image = self.Image\n",
    "        self.marchingCubes.Connectivity = 1\n",
    "        self.vmtkRenderer = vmtkscripts.vmtkRenderer()\n",
    "        self.vmtkRenderer.Initialize()\n",
    "        self.SurfaceViewer = vmtkscripts.vmtkSurfaceViewer()\n",
    "        self.SurfaceViewer.vmtkRenderer = self.vmtkRenderer\n",
    "        for level in self.Levels:\n",
    "            self.marchingCubes.Level = level\n",
    "            self.marchingCubes.Execute()\n",
    "            self.Surface = self.marchingCubes.Surface\n",
    "            self.SurfaceViewer.Surface = self.Surface\n",
    "            self.SurfaceViewer.BuildView()\n",
    "\n",
    "if __name__=='__main__':\n",
    "main = pypes.pypeMain()\n",
    "main.Arguments = sys.argv\n",
    "main.Execute()"
   ]
  }
 ],
 "metadata": {
  "kernelspec": {
   "display_name": "sw_env",
   "language": "python",
   "name": "sw_env"
  },
  "language_info": {
   "codemirror_mode": {
    "name": "ipython",
    "version": 3
   },
   "file_extension": ".py",
   "mimetype": "text/x-python",
   "name": "python",
   "nbconvert_exporter": "python",
   "pygments_lexer": "ipython3",
   "version": "3.6.2"
  }
 },
 "nbformat": 4,
 "nbformat_minor": 2
}
