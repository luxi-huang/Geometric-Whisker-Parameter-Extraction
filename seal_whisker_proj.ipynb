{
 "cells": [
  {
   "cell_type": "code",
   "execution_count": null,
   "metadata": {},
   "outputs": [],
   "source": [
    "import sys \n",
    "\n",
    "from vmtk import pypes\n",
    "from vmtk import vmtkscripts"
   ]
  },
  {
   "cell_type": "code",
   "execution_count": null,
   "metadata": {},
   "outputs": [],
   "source": [
    "mast_dir = ' D:/Hartmann/PythonAll/seal_whiskers/Har20191023_harbor3_jig1/' \n",
    "dir_1 = mast_dir + 'saved/IMG-0002-00001.dcm ' ###raw dcm stack\n",
    "dir_2 = mast_dir + 'image_volume_voi.vti ' ###image: one whisker\n",
    "dir_5 = mast_dir + 'image_volume_voi_v2.vti ' ###image: many whisker\n",
    "dir_3 = mast_dir + 'mc_surface.vtp ' ### surface\n",
    "dir_4 = mast_dir + 'level_sets.vti ' ###image \n",
    "\n",
    "arg_1 = 'vmtkimagereader -ifile' + dir_1 + '--pipe vmtkimagevoiselector -ofile' +  dir_5\n",
    "arg_3 = 'vmtklevelsetsegmentation -ifile' + dir_5 + '-ofile' + dir_4\n",
    "arg_2 = 'vmtkmarchingcubes -ifile' +  dir_5 +'-l 5.0 -ofile' +  dir_3 + '--pipe vmtksurfaceviewer'\n",
    "myArguments = 'vmtkmarchingcubes -ifile ' + dir_2 + ' -l 5 --pipe vmtksurfaceviewer'\n",
    "\n",
    "#myPype = pypes.PypeRun(myArguments)"
   ]
  },
  {
   "cell_type": "code",
   "execution_count": null,
   "metadata": {},
   "outputs": [],
   "source": [
    "myPype = pypes.PypeRun(arg_3)"
   ]
  },
  {
   "cell_type": "code",
   "execution_count": null,
   "metadata": {},
   "outputs": [],
   "source": [
    "mySurface = myPype.GetScriptObject('vmtkmarchingcubes','0').Surface\n",
    "mySmoother = vmtkscripts.vmtkSurfaceSmoothing()\n",
    "mySmoother.Surface = mySurface\n",
    "mySmoother.PassBand = 0.1\n",
    "mySmoother.NumberOfIterations = 30\n",
    "mySmoother.Execute()"
   ]
  },
  {
   "cell_type": "code",
   "execution_count": null,
   "metadata": {},
   "outputs": [],
   "source": [
    "myWriter = vmtkscripts.vmtkSurfaceWriter()\n",
    "myWriter.Surface = mySmoother.Surface\n",
    "myWriter.OutputFileName = 'mysurface.vtp'\n",
    "myWriter.Execute()"
   ]
  },
  {
   "cell_type": "code",
   "execution_count": null,
   "metadata": {},
   "outputs": [],
   "source": [
    "customscript = 'customScript'\n",
    "\n",
    "class customScript(pypes.pypeScript):\n",
    "    def __init__(self):\n",
    "        pypes.pypeScript.__init__(self)\n",
    "        self.Image = None\n",
    "        self.Surface = None\n",
    "        self.Levels=[]\n",
    "        self.SetScriptName('customScript')\n",
    "        self.SetScriptDoc('here goes a description')\n",
    "        self.SetInputMembers([\n",
    "            ['Image','i','vtkImageData',1,'','the input image','vmtkimagereader'],\n",
    "            ['Levels','levels','float',-1,'','graylevels to generate the isosurface at'],\n",
    "            ])\n",
    "        self.SetOutputMembers([\n",
    "            ['Surface','o','vtkPolyData',1,'','the output surface','vmtksurfacewriter']\n",
    "            ])\n",
    "    def Execute(self): \n",
    "        if self.Image == None:\n",
    "            self.PrintError('Error: No Image.')\n",
    "        if self.Levels == []:\n",
    "            self.PrintError('Error: No Levels')\n",
    "        self.marchingCubes = vmtkscripts.vmtkMarchingCubes()\n",
    "        self.marchingCubes.Image = self.Image\n",
    "        self.marchingCubes.Connectivity = 1\n",
    "        self.vmtkRenderer = vmtkscripts.vmtkRenderer()\n",
    "        self.vmtkRenderer.Initialize()\n",
    "        self.SurfaceViewer = vmtkscripts.vmtkSurfaceViewer()\n",
    "        self.SurfaceViewer.vmtkRenderer = self.vmtkRenderer\n",
    "        for level in self.Levels:\n",
    "            self.marchingCubes.Level = level\n",
    "            self.marchingCubes.Execute()\n",
    "            self.Surface = self.marchingCubes.Surface\n",
    "            self.SurfaceViewer.Surface = self.Surface\n",
    "            self.SurfaceViewer.BuildView()\n",
    "\n",
    "if __name__=='__main__':\n",
    "main = pypes.pypeMain()\n",
    "main.Arguments = sys.argv\n",
    "main.Execute()"
   ]
  }
 ],
 "metadata": {
  "kernelspec": {
   "display_name": "sw_env",
   "language": "python",
   "name": "sw_env"
  },
  "language_info": {
   "codemirror_mode": {
    "name": "ipython",
    "version": 3
   },
   "file_extension": ".py",
   "mimetype": "text/x-python",
   "name": "python",
   "nbconvert_exporter": "python",
   "pygments_lexer": "ipython3",
   "version": "3.6.2"
  }
 },
 "nbformat": 4,
 "nbformat_minor": 2
}
