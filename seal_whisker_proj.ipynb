{
 "cells": [
  {
   "cell_type": "code",
   "execution_count": 1,
   "metadata": {},
   "outputs": [],
   "source": [
    "import sys \n",
    "\n",
    "from vmtk import pypes\n",
    "from vmtk import vmtkscripts"
   ]
  },
  {
   "cell_type": "markdown",
   "metadata": {},
   "source": [
    "**From original code**\n",
    "\n",
    "`mast_dir = ' D:/Hartmann/PythonAll/seal_whiskers/Har20191023_harbor3_jig1/' `\n",
    "\n",
    "`dir_1 = mast_dir + 'saved/IMG-0002-00001.dcm ' ###raw dcm stack`\n",
    "\n",
    "`dir_2 = mast_dir + 'image_volume_voi.vti ' ###image: one whisker`\n",
    "\n",
    "`dir_5 = mast_dir + 'image_volume_voi_v2.vti ' ###image: many whisker`\n",
    "\n",
    "`dir_3 = mast_dir + 'mc_surface.vtp ' ### surface`\n",
    "\n",
    "`dir_4 = mast_dir + 'level_sets.vti ' ###image `\n",
    "\n",
    "`arg_1 = 'vmtkimagereader -ifile' + dir_1 + '--pipe vmtkimagevoiselector -ofile' +  dir_5`\n",
    "\n",
    "`arg_3 = 'vmtklevelsetsegmentation -ifile' + dir_5 + '-ofile' + dir_4`\n",
    "\n",
    "`arg_2 = 'vmtkmarchingcubes -ifile' +  dir_5 +'-l 5.0 -ofile' +  dir_3 + '--pipe vmtksurfaceviewer'`\n",
    "\n",
    "`myArguments = 'vmtkmarchingcubes -ifile ' + dir_2 + ' -l 5 --pipe vmtksurfaceviewer'`\n",
    "\n",
    "\n",
    "\n",
    "`#myPype = pypes.PypeRun(myArguments)`"
   ]
  },
  {
   "cell_type": "code",
   "execution_count": 5,
   "metadata": {},
   "outputs": [],
   "source": [
    "mast_dir = ' C:/Users/corma/Desktop/HLAB_seals/whiskers_temp/d_Har20190607_long_whiskers_68um/'\n",
    "dir_1 = mast_dir + 'Har20190607_long_whiskers_68um_dcm/IMG-0003-00001.dcm ' ###raw dcm stack\n",
    "dir_2 = mast_dir + 'image_volume_voi.vti ' ###image: one whisker\n",
    "dir_5 = mast_dir + 'image_volume_voi_v2.vti ' ###image: many whisker\n",
    "dir_3 = mast_dir + 'mc_surface.vtp ' ### surface\n",
    "dir_3_less = mast_dir + 'mc_surf_less.vtp '\n",
    "dir_4 = mast_dir + 'level_sets.vti ' ###image \n",
    "dir_6 = mast_dir + 'mc_surf_smoothed.vtp ' ###smoothed surface\n",
    "dir_6_extra = mast_dir + 'mc_surf_super_smoothed.vtp ' ###extra smoothed surface\n",
    "dir_7 = mast_dir + 'sb_surf.vtp ' ###surface subdivision\n",
    "dir_8 = mast_dir + 'mc_surf_clip.vtp ' ###surface with endcaps clipped off\n",
    "dir_9 = mast_dir + 'smoothed_surf_centerlines.vtp ' ###centerlines of smoothed surface\n",
    "dir_10 = mast_dir + 'mc_surf_out.stl ' ###output surface for Geomagic\n",
    "dir_11 = mast_dir + 'isol_surf.vtp ' ###input surface from Geomagic/SW\n",
    "\n",
    "arg_1 = 'vmtkimagereader -ifile' + dir_1 + '--pipe vmtkimagevoiselector -ofile' +  dir_5\n",
    "arg_2 = 'vmtkmarchingcubes -ifile' +  dir_5 +'-l -500.0 -ofile' +  dir_3 + '--pipe vmtksurfaceviewer' ###default 5.0, originally arg_2\n",
    "arg_2_less =  'vmtkmarchingcubes -ifile' +  dir_5 +'-l -250.0 -ofile' +  dir_3_less + '--pipe vmtksurfaceviewer' ###less noise, use for centerlines calcs\n",
    "arg_3 = 'vmtksurfacesmoothing -ifile' + dir_3_less + '-method \"laplace\" -relaxation 0.3 -iterations 50 -ofile' + dir_6_extra ###laplace smoothing method, relaxation .07 is good\n",
    "###arg_3 = 'vmtksurfacesmoothing -ifile' + dir_3 + '-passband 0.1 -iterations 250 -ofile' + dir_6_extra ###taubin smoothing, originally arg_4\n",
    "arg_4 =  'vmtksurfacereader -ifile' + dir_3_less  + '--pipe vmtksurfacesmoothing -method \"laplace\" -relaxation 0.3  -iterations 50  --pipe vmtkrenderer --pipe vmtksurfaceviewer -display 0 --pipe vmtksurfaceviewer -i @vmtksurfacereader.o -color 1 0 0 -display 1' ###using laplace smoothing\n",
    "###arg_4 =  'vmtksurfacereader -ifile' + dir_3  + '--pipe vmtksurfacesmoothing -iterations 250 -passband 0.1 --pipe vmtkrenderer --pipe vmtksurfaceviewer -display 0 --pipe vmtksurfaceviewer -i @vmtksurfacereader.o -color 1 0 0 -display 1' ###taubin smoothing, originally arg_5\n",
    "arg_5_opt1 = 'vmtksurfacesubdivision -ifile' + dir_6_extra + '-ofile' + dir_7 + '-method butterfly'###increases number of triangles on surface, if used then change dir_6 in arg_6 to dir_7\n",
    "arg_5_opt2 = 'vmtksurfaceclipper -ifile' + dir_6_extra + '-ofile' + dir_8 \n",
    "arg_6 = 'vmtkcenterlines -seedselector openprofiles -ifile' + dir_8 + '-ofile' + dir_9\n",
    "\n",
    "arg_prepping = 'vmtksurfaceclipper -ifile' + dir_3 + '--pipe vmtksurfacewriter -ofile' + dir_10 \n",
    "arg_7 = 'vmtksurfacewriter -ifile' + dir_3 + '-ofile' + dir_10\n",
    "arg_8 = 'vmtksurfacereader -ifile' + dir_10 + ' -ofile' + dir_11\n",
    "\n",
    "arg_help = 'vmtkcenterlines --help' ###replace 'vmtkcenterlines' with any function you want to know about, faster than googling\n",
    "#vmtksurfaceconnectivity -ifile airway.vtp --pipe vmtksurfacesmoothing -passband 0.01 -iterations 30 --pipe vmtkcenterlines -ofile airway_centerlines.vtp\n",
    "    \n",
    "\n",
    " \n",
    "arg_1_opt = 'vmtklevelsetsegmentation -ifile' + dir_5 + '-ofile' + dir_4 ###originally arg_3\n",
    "arg_2_opt = 'vmtkmarchingcubes -ifile ' + dir_2 + ' -l 5 --pipe vmtksurfaceviewer'###vestigial part of original code, 'myArguments'\n",
    "\n",
    "#run args1-5 sequentially to automatically segment and extract centerlines\n",
    "#run arg_1_opt for colliding fronts initialization\n",
    "#myPype = pypes.PypeRun(myArguments)"
   ]
  },
  {
   "cell_type": "code",
   "execution_count": 6,
   "metadata": {},
   "outputs": [
    {
     "name": "stdout",
     "output_type": "stream",
     "text": [
      "\n",
      "Automatic piping vmtksurfaceclipper\n",
      "Parsing options vmtksurfaceclipper\n",
      "    SurfaceInputFileName = C:/Users/corma/Desktop/HLAB_seals/whiskers_temp/d_Har20190607_long_whiskers_68um/mc_surface.vtp\n",
      "Explicit piping vmtksurfaceclipper\n",
      "Input vmtksurfaceclipper members:\n",
      "    Id = 0\n",
      "    Disabled = 0\n",
      "    Surface = None\n",
      "    SurfaceInputFileName = C:/Users/corma/Desktop/HLAB_seals/whiskers_temp/d_Har20190607_long_whiskers_68um/mc_surface.vtp\n",
      "    WidgetType = box\n",
      "    Transform = None\n",
      "    CleanOutput = 1\n",
      "    InsideOut = 0\n",
      "    Interactive = 1\n",
      "    ClipArrayName = None\n",
      "    ClipValue = 0.0\n",
      "    vmtkRenderer = None\n",
      "    SurfaceOutputFileName = \n",
      "    ClippedSurfaceOutputFileName = \n",
      "    CutLinesOutputFileName = \n",
      "Reading VTK XML surface file.\n",
      "Executing vmtksurfaceclipper ...\n",
      "Quit renderer\n",
      "Done executing vmtksurfaceclipper.\n",
      "Output vmtksurfaceclipper members:\n",
      "    Id = 0\n",
      "    Surface = vtkPolyData\n",
      "    ClippedSurface = vtkPolyData\n",
      "    CutLines = vtkPolyData\n",
      "    Transform = vtkTransform\n",
      "\n",
      "Automatic piping vmtksurfacewriter\n",
      "    Surface = vmtksurfaceclipper-0.Surface\n",
      "Parsing options vmtksurfacewriter\n",
      "    OutputFileName = C:/Users/corma/Desktop/HLAB_seals/whiskers_temp/d_Har20190607_long_whiskers_68um/mc_surf_out.stl\n",
      "Explicit piping vmtksurfacewriter\n",
      "Input vmtksurfacewriter members:\n",
      "    Id = 0\n",
      "    Disabled = 0\n",
      "    Surface = vtkPolyData\n",
      "    SurfaceInputFileName = \n",
      "    Format = \n",
      "    GuessFormat = 1\n",
      "    CellData = 0\n",
      "    Mode = binary\n",
      "    OutputFileName = C:/Users/corma/Desktop/HLAB_seals/whiskers_temp/d_Har20190607_long_whiskers_68um/mc_surf_out.stl\n",
      "    OutputFileName = C:/Users/corma/Desktop/HLAB_seals/whiskers_temp/d_Har20190607_long_whiskers_68um/mc_surf_out.stl\n",
      "Executing vmtksurfacewriter ...\n",
      "Writing STL surface file.\n",
      "Done executing vmtksurfacewriter.\n",
      "Output vmtksurfacewriter members:\n",
      "    Id = 0\n"
     ]
    }
   ],
   "source": [
    "myPype = pypes.PypeRun(arg_prepping)"
   ]
  },
  {
   "cell_type": "code",
   "execution_count": null,
   "metadata": {
    "scrolled": true
   },
   "outputs": [],
   "source": [
    "myPype = pypes.PypeRun(arg_help)"
   ]
  },
  {
   "cell_type": "code",
   "execution_count": null,
   "metadata": {},
   "outputs": [],
   "source": [
    "mySurface = myPype.GetScriptObject('vmtkmarchingcubes','0').Surface\n",
    "\n",
    "mySmoother = vmtkscripts.vmtkSurfaceSmoothing()\n",
    "mySmoother.Surface = mySurface\n",
    "mySmoother.PassBand = 0.1\n",
    "mySmoother.NumberOfIterations = 30\n",
    "mySmoother.Execute()"
   ]
  },
  {
   "cell_type": "code",
   "execution_count": null,
   "metadata": {},
   "outputs": [],
   "source": [
    "myWriter = vmtkscripts.vmtkSurfaceWriter()\n",
    "myWriter.Surface = mySmoother.Surface\n",
    "myWriter.OutputFileName = mast_dir + 'mysurface.vtp'\n",
    "myWriter.Execute()"
   ]
  },
  {
   "cell_type": "code",
   "execution_count": null,
   "metadata": {
    "scrolled": true
   },
   "outputs": [],
   "source": [
    "customscript = 'customScript'\n",
    "\n",
    "class customScript(pypes.pypeScript):\n",
    "    def __init__(self):\n",
    "        pypes.pypeScript.__init__(self)\n",
    "        self.Image = None\n",
    "        self.Surface = None\n",
    "        self.Levels=[]\n",
    "        self.SetScriptName('customScript')\n",
    "        self.SetScriptDoc('here goes a description')\n",
    "        self.SetInputMembers([\n",
    "            ['Image','i','vtkImageData',1,'','the input image','vmtkimagereader'],\n",
    "            ['Levels','levels','float',-1,'','graylevels to generate the isosurface at'],\n",
    "            ])\n",
    "        self.SetOutputMembers([\n",
    "            ['Surface','o','vtkPolyData',1,'','the output surface','vmtksurfacewriter']\n",
    "            ])\n",
    "    def Execute(self): \n",
    "        if self.Image == None:\n",
    "            self.PrintError('Error: No Image.')\n",
    "        if self.Levels == []:\n",
    "            self.PrintError('Error: No Levels')\n",
    "        self.marchingCubes = vmtkscripts.vmtkMarchingCubes()\n",
    "        self.marchingCubes.Image = self.Image\n",
    "        self.marchingCubes.Connectivity = 1\n",
    "        self.vmtkRenderer = vmtkscripts.vmtkRenderer()\n",
    "        self.vmtkRenderer.Initialize()\n",
    "        self.SurfaceViewer = vmtkscripts.vmtkSurfaceViewer()\n",
    "        self.SurfaceViewer.vmtkRenderer = self.vmtkRenderer\n",
    "        for level in self.Levels:\n",
    "            self.marchingCubes.Level = level\n",
    "            self.marchingCubes.Execute()\n",
    "            self.Surface = self.marchingCubes.Surface\n",
    "            self.SurfaceViewer.Surface = self.Surface\n",
    "            self.SurfaceViewer.BuildView()     \n",
    "    pass\n",
    "\n",
    "if __name__=='__main__':\n",
    "    main = pypes.pypeMain()\n",
    "    main.Arguments = sys.argv\n",
    "    main.Execute()"
   ]
  },
  {
   "cell_type": "code",
   "execution_count": null,
   "metadata": {},
   "outputs": [],
   "source": [
    "     vmtkcenterlines -seedselector openprofiles -ifile tubeExtended.stl -ofile centerlines.vtp  --pipe vmtksurfacewriter -ifile centerlines.vtp -ofile centerlines.vtk"
   ]
  }
 ],
 "metadata": {
  "kernelspec": {
   "display_name": "vmtk",
   "language": "python",
   "name": "vmtk"
  },
  "language_info": {
   "codemirror_mode": {
    "name": "ipython",
    "version": 3
   },
   "file_extension": ".py",
   "mimetype": "text/x-python",
   "name": "python",
   "nbconvert_exporter": "python",
   "pygments_lexer": "ipython3",
   "version": "3.6.2"
  }
 },
 "nbformat": 4,
 "nbformat_minor": 2
}
